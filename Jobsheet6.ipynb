{
  "nbformat": 4,
  "nbformat_minor": 0,
  "metadata": {
    "colab": {
      "provenance": [],
      "authorship_tag": "ABX9TyM37LG0X2+yylqLEMTE1IGl",
      "include_colab_link": true
    },
    "kernelspec": {
      "name": "python3",
      "display_name": "Python 3"
    },
    "language_info": {
      "name": "python"
    }
  },
  "cells": [
    {
      "cell_type": "markdown",
      "metadata": {
        "id": "view-in-github",
        "colab_type": "text"
      },
      "source": [
        "<a href=\"https://colab.research.google.com/github/AdindaRahajengSilviaPranesti/MarchineLearning_2141720158_AdindaRSP_02/blob/main/Jobsheet6.ipynb\" target=\"_parent\"><img src=\"https://colab.research.google.com/assets/colab-badge.svg\" alt=\"Open In Colab\"/></a>"
      ]
    },
    {
      "cell_type": "markdown",
      "source": [
        "#🖥 **Job Sheet 6: Ensemble Methods**\n",
        "####- **🌼Adinda Rahajeng Silvia Pranesti🌼**\n",
        "###- **🌼2141720158 / 02**\n",
        "###- **🌼3I-TI**"
      ],
      "metadata": {
        "id": "eNs9ceFR1__K"
      }
    },
    {
      "cell_type": "markdown",
      "source": [
        "# **📖LAB WORK 1**"
      ],
      "metadata": {
        "id": "OcQfzrBS8aud"
      }
    },
    {
      "cell_type": "code",
      "execution_count": null,
      "metadata": {
        "id": "p8uyBMNl15vn"
      },
      "outputs": [],
      "source": []
    }
  ]
}